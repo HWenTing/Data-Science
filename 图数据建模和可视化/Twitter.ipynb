{
 "cells": [
  {
   "cell_type": "code",
   "execution_count": 95,
   "metadata": {},
   "outputs": [],
   "source": [
    "import networkx as nx\n",
    "import pandas as pd\n",
    "import numpy as np\n",
    "import matplotlib.pyplot as plt #作图\n",
    "%matplotlib inline "
   ]
  },
  {
   "cell_type": "code",
   "execution_count": 141,
   "metadata": {},
   "outputs": [],
   "source": [
    "def get_G(data):\n",
    "    G = nx.Graph() \n",
    "    for row in range(1, len(data)): \n",
    "        record = data.iloc[row]\n",
    "        c_nick = record['nick'] \n",
    "        if c_nick in G:\n",
    "            pass\n",
    "        else:\n",
    "            G.add_node(c_nick) \n",
    "        content = str(record['content\\r']) \n",
    "        if content: \n",
    "            while \"@\" in content:\n",
    "                ind = content.index('@') \n",
    "                n_nick = '' \n",
    "                while content[ind] != ' ' and content[ind] != ':' and ind < len(content) - 1:\n",
    "                    ind = ind + 1 \n",
    "                    if content[ind] != ':': \n",
    "                        n_nick += content[ind] \n",
    "                if n_nick in G: \n",
    "                    pass\n",
    "                else:\n",
    "                    G.add_node(n_nick)   \n",
    "                if G.has_edge(n_nick,c_nick): \n",
    "                    w = G.get_edge_data(n_nick, c_nick)['weight']+1\n",
    "                    G.add_weighted_edges_from([(n_nick, c_nick, w)])  \n",
    "                    \n",
    "                else: \n",
    "                    G.add_weighted_edges_from([(n_nick, c_nick, 1)])   \n",
    "                    \n",
    "                content = content[ind+1:]\n",
    "    return G"
   ]
  },
  {
   "cell_type": "code",
   "execution_count": 142,
   "metadata": {},
   "outputs": [],
   "source": [
    "E_Before = get_G( pd.read_csv('before.csv',lineterminator=\"\\n\"))\n",
    "E_After = get_G( pd.read_csv('after.csv',lineterminator=\"\\n\"))\n",
    "J_Before = get_G( pd.read_csv('jbefore.csv',lineterminator=\"\\n\"))\n",
    "J_After = get_G( pd.read_csv('jafter.csv',lineterminator=\"\\n\"))"
   ]
  },
  {
   "cell_type": "code",
   "execution_count": 72,
   "metadata": {},
   "outputs": [],
   "source": [
    "# 去重非公共节点\n",
    "# 似乎在原来对象上修改了\n",
    "def drop_diff_point(G1,G2): \n",
    "\n",
    "    for node in list(G1.nodes()): \n",
    "        if not(node in G2): \n",
    "            G1.remove_node(node) \n",
    "\n",
    "    for node in list(G2.nodes()): \n",
    "        if not(node in G1): \n",
    "             G2.remove_node(node)\n",
    "    return G1,G2"
   ]
  },
  {
   "cell_type": "code",
   "execution_count": 144,
   "metadata": {},
   "outputs": [],
   "source": [
    "E_Before_same,E_After_same = drop_diff_point(E_Before,E_After)\n",
    "J_Before_same,J_After_same = drop_diff_point(J_Before,J_After)"
   ]
  },
  {
   "cell_type": "code",
   "execution_count": 145,
   "metadata": {},
   "outputs": [],
   "source": [
    "# 将构建好的网络存入文件中\n",
    "nx.write_gml(E_Before_same,\"E_Before_same.gml\")\n",
    "nx.write_gml(E_After_same,\"E_After_same.gml\")\n",
    "nx.write_gml(J_Before_same,\"J_Before_same.gml\")\n",
    "nx.write_gml(J_After_same,\"J_After_same.gml\")"
   ]
  },
  {
   "cell_type": "code",
   "execution_count": 88,
   "metadata": {},
   "outputs": [],
   "source": [
    "#输出网络平均度 \n",
    "def average_deg(G,name): \n",
    "    d = nx.degree(G) \n",
    "    print(name + \"平均度\")   \n",
    "    print(np.array(list(dict(d).values())).mean()) "
   ]
  },
  {
   "cell_type": "code",
   "execution_count": 146,
   "metadata": {},
   "outputs": [
    {
     "name": "stdout",
     "output_type": "stream",
     "text": [
      "E_Before_same平均度\n",
      "2.031351671103224\n",
      "E_After_same平均度\n",
      "2.1804199940845903\n",
      "J_Before_same平均度\n",
      "2.6966867469879516\n",
      "J_After_same平均度\n",
      "5.796987951807229\n"
     ]
    }
   ],
   "source": [
    "average_deg(E_Before_same,'E_Before_same')\n",
    "average_deg(E_After_same,'E_After_same')\n",
    "average_deg(J_Before_same,'J_Before_same')\n",
    "average_deg(J_After_same,'J_After_same')"
   ]
  },
  {
   "cell_type": "code",
   "execution_count": 90,
   "metadata": {},
   "outputs": [],
   "source": [
    "#输出最大联通片\n",
    "def largest_com(G,name): \n",
    "    largest_components=max(nx.connected_components(G),key=len) \n",
    "    print(name + \"的最大联通成分的大小为\",end = '') \n",
    "    print(len(largest_components)) "
   ]
  },
  {
   "cell_type": "code",
   "execution_count": 147,
   "metadata": {},
   "outputs": [
    {
     "name": "stdout",
     "output_type": "stream",
     "text": [
      "E_Before_same的最大联通成分的大小为4509\n",
      "E_After_same的最大联通成分的大小为4713\n",
      "J_Before_same的最大联通成分的大小为4516\n",
      "J_After_same的最大联通成分的大小为5555\n"
     ]
    }
   ],
   "source": [
    "largest_com(E_Before_same,'E_Before_same')\n",
    "largest_com(E_After_same,'E_After_same')\n",
    "largest_com(J_Before_same,'J_Before_same')\n",
    "largest_com(J_After_same,'J_After_same')"
   ]
  },
  {
   "cell_type": "code",
   "execution_count": 92,
   "metadata": {},
   "outputs": [],
   "source": [
    "#输出平均群聚系数 \n",
    "def average_clu(G,name): \n",
    "    c = nx.average_clustering(G) \n",
    "    print(name + \"的平均群聚系数:\",end = '') \n",
    "    print(c) "
   ]
  },
  {
   "cell_type": "code",
   "execution_count": 148,
   "metadata": {},
   "outputs": [
    {
     "name": "stdout",
     "output_type": "stream",
     "text": [
      "E_Before_same的平均群聚系数:0.032472853400575215\n",
      "E_After_same的平均群聚系数:0.03275316892589638\n",
      "J_Before_same的平均群聚系数:0.04936203769082611\n",
      "J_After_same的平均群聚系数:0.0680668844884899\n"
     ]
    }
   ],
   "source": [
    "average_clu(E_Before_same,'E_Before_same')\n",
    "average_clu(E_After_same,'E_After_same')\n",
    "average_clu(J_Before_same,'J_Before_same')\n",
    "average_clu(J_After_same,'J_After_same')"
   ]
  },
  {
   "cell_type": "code",
   "execution_count": 96,
   "metadata": {},
   "outputs": [],
   "source": [
    "def individualdegree(G1,G2,name): \n",
    "    nodes1 = G1.nodes() \n",
    "    nodes2 = G2.nodes() \n",
    "    degree1 = [] \n",
    "    degree2 = [] \n",
    "    for node in nodes1:\n",
    "        if node in nodes2: \n",
    "            degree1.append(G1.degree(node))\n",
    "            degree2.append(G2.degree(node))\n",
    "    plt.title(name)\n",
    "    plt.xlabel('before') \n",
    "    plt.ylabel('after')\n",
    "    plt.loglog(degree1,degree2,'o')\n",
    "    plt.show()\n"
   ]
  },
  {
   "cell_type": "code",
   "execution_count": 150,
   "metadata": {},
   "outputs": [
    {
     "data": {
      "image/png": "[encoded data removed]",
      "text/plain": [
       "<matplotlib.figure.Figure at 0x17ba01a1ac8>"
      ]
     },
     "metadata": {},
     "output_type": "display_data"
    },
    {
     "data": {
      "image/png": "[encoded data removed]",
      "text/plain": [
       "<matplotlib.figure.Figure at 0x17ba0996588>"
      ]
     },
     "metadata": {},
     "output_type": "display_data"
    }
   ],
   "source": [
    "individualdegree(E_Before_same,E_After_same,'e')\n",
    "individualdegree(J_Before_same,J_After_same,'j')"
   ]
  },
  {
   "cell_type": "code",
   "execution_count": 121,
   "metadata": {},
   "outputs": [],
   "source": [
    "def cumlutive_degree_distribution(G): \n",
    "    degree = [] \n",
    "    li = G.degree() \n",
    "    for each_node in li:   \n",
    "        degree.append(each_node[1])\n",
    "    xs = degree\n",
    "    distKeys = range(min(xs), max(xs) + 1) \n",
    "    pdf = dict([(k, 0) for k in distKeys]) \n",
    "    for x in xs:\n",
    "        pdf[x] += 1\n",
    "    pdf_temp=pdf\n",
    "    scope = range(min(pdf),max(pdf)+1)\n",
    "    for degree in scope:\n",
    "        k=degree+1   \n",
    "        while k<=max(pdf): \n",
    "            pdf[degree]+=pdf_temp[k]\n",
    "            k+=1 \n",
    "    return pdf "
   ]
  },
  {
   "cell_type": "code",
   "execution_count": 138,
   "metadata": {},
   "outputs": [],
   "source": [
    "def draw_degree_chart(G,name,distribution): \n",
    "    degree =distribution\n",
    "    y = np.array(list(degree.values())) \n",
    "    y = y/y[0]\n",
    "    x=range(len(degree))\n",
    "    if 'B' in name: \n",
    "        color = 'r^'\n",
    "        line = plt.loglog(x, y, color)\n",
    "        plt.legend(line, (\"before\"))   \n",
    "    else:\n",
    "        color = 'g^'\n",
    "        line = plt.loglog(x, y, color)\n",
    "        plt.legend(line, (\"a\"))\n",
    "    plt.title( name) \n",
    "    plt.show()"
   ]
  },
  {
   "cell_type": "code",
   "execution_count": 151,
   "metadata": {
    "scrolled": true
   },
   "outputs": [
    {
     "data": {
      "image/png": "[encoded data removed]",
      "text/plain": [
       "<matplotlib.figure.Figure at 0x17ba0996278>"
      ]
     },
     "metadata": {},
     "output_type": "display_data"
    },
    {
     "data": {
      "image/png": "[encoded data removed]",
      "text/plain": [
       "<matplotlib.figure.Figure at 0x17b9ee8eb38>"
      ]
     },
     "metadata": {},
     "output_type": "display_data"
    },
    {
     "data": {
      "image/png": "[encoded data removed]",
      "text/plain": [
       "<matplotlib.figure.Figure at 0x17ba0411978>"
      ]
     },
     "metadata": {},
     "output_type": "display_data"
    },
    {
     "data": {
      "image/png": "[encoded data removed]",
      "text/plain": [
       "<matplotlib.figure.Figure at 0x17b9fb53550>"
      ]
     },
     "metadata": {},
     "output_type": "display_data"
    }
   ],
   "source": [
    "draw_degree_chart(E_Before_same,'E_Before_same',cumlutive_degree_distribution(E_Before_same))\n",
    "draw_degree_chart(E_After_same,'E_After_same',cumlutive_degree_distribution(E_After_same))\n",
    "\n",
    "draw_degree_chart(E_After_same,'J_Before_same',cumlutive_degree_distribution(J_Before_same))\n",
    "draw_degree_chart(E_Before_same,'J_After_same',cumlutive_degree_distribution(J_After_same))"
   ]
  },
  {
   "cell_type": "code",
   "execution_count": null,
   "metadata": {},
   "outputs": [],
   "source": []
  }
 ],
 "metadata": {
  "kernelspec": {
   "display_name": "Python 3",
   "language": "python",
   "name": "python3"
  },
  "language_info": {
   "codemirror_mode": {
    "name": "ipython",
    "version": 3
   },
   "file_extension": ".py",
   "mimetype": "text/x-python",
   "name": "python",
   "nbconvert_exporter": "python",
   "pygments_lexer": "ipython3",
   "version": "3.6.4"
  }
 },
 "nbformat": 4,
 "nbformat_minor": 2
}
